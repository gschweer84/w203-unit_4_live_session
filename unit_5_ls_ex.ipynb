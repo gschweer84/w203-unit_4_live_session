{
 "cells": [
  {
   "cell_type": "markdown",
   "metadata": {},
   "source": [
    "<h1>Unit 5 Live Session </h1>\n",
    "<h3> W203 Instructional Team </h3>"
   ]
  },
  {
   "cell_type": "markdown",
   "metadata": {},
   "source": [
    "<h2> Distribution of Random Variables </h2>\n",
    "\n",
    "<a ><img src=\"https://i.imgflip.com/2tiaeo.jpg\"/></a>"
   ]
  },
  {
   "cell_type": "markdown",
   "metadata": {},
   "source": [
    "<h3> 0.1 Class Announcements </h3>\n",
    "1. Announcement 1\n",
    "2. Announcement 2"
   ]
  },
  {
   "cell_type": "markdown",
   "metadata": {},
   "source": [
    "<h3> 1 Understanding Joint Distributions </h3>\n",
    "\n",
    "In this picture, we imagine putting a cake down on the X-Y plane.\n",
    "\n",
    "Take a sharp knife and make two cuts parallel to the X-axis.  one is at $Y=y$, the other at $Y=y+dy$.\n",
    "\n",
    "![cake](cake.png)"
   ]
  },
  {
   "cell_type": "markdown",
   "metadata": {},
   "source": [
    "Remember some of the key terms we learned in the async:\n",
    "\n",
    "- Joint Density Function, $f_{X,Y}$\n",
    "- Conditional Expectation, $E(X|Y)$\n",
    "- Conditional Distribution, $f_{X|Y}$\n",
    "- Marginal Distribution, $f_Y$\n",
    "\n",
    "\n",
    "What would each of the following represent?\n",
    "\n",
    "- The height of the cake before being cut.\n",
    "- The shape of the slice  (what do you need to do if the total area of the slice isn't 1?)\n",
    "- The total weight of the slice.\n",
    "- The point on the X-axis where the slice would be perfectly balanced."
   ]
  },
  {
   "cell_type": "markdown",
   "metadata": {},
   "source": [
    "### 1.2 Getting from one kind of distribution to another\n",
    "\n",
    "Explain, in as simple English as you can, the meaning of the following relationship\n",
    "\n",
    "$$f_Y(y) \\cdot f_{X|Y}(x|y) = f_{X,Y}(x,y)$$"
   ]
  },
  {
   "cell_type": "markdown",
   "metadata": {},
   "source": [
    "### 1.3 Key Relationships about Expectations\n",
    "\n",
    "Let $X$ and $Y$ be continuos random variables\n",
    "\n",
    "1. Expectation of a function of two random variables.\n",
    "\n",
    "for $z: \\mathbb{R} \\times  \\mathbb{R} \\rightarrow  \\mathbb{R}$, \n",
    "\n",
    "$$E(z(X,Y)) = \\int_x \\int_y z(x,y) f_{X,Y}(x,y) dy dx$$\n",
    "\n",
    "2. The Law of Iterated Expectations.\n",
    "\n",
    "$$E(Y) = E(E(Y|X))$$\n",
    "\n",
    "Expanded version:\n",
    "\n",
    "$$E(Y) = \\int_{x=-\\infty}^\\infty  f_X(x) \\int_{y=-\\infty}^\\infty  y f_{Y|X}(y|x) dy dx = \\int_{x=-\\infty}^\\infty  \\int_{y=-\\infty}^\\infty  y f_{X,Y}(x,y) dy dx$$\n",
    "\n",
    "**Remember:** The Law of Iterated expectations is really just about whether you integrate over $X$ then $Y$ or over $Y$ then $X$.\n",
    "\n",
    "3. $\\text{cov}(X,Y) = E\\Big[ \\big(X-E(X)\\big)\\big(Y-E(Y)\\big) \\Big] = E(XY) - E(X)E(Y)$"
   ]
  },
  {
   "cell_type": "markdown",
   "metadata": {},
   "source": [
    "\n",
    "<h3> 2 Joint Distribution Practice: Professorial Mistakes (Discrete RVs) </h3>\n",
    "\n",
    "In a live session, the number of questions that students ask is a random variable, $X$.  $X$ takes on three values: $\\{0, 1, 2\\}$ each with probability $1/3$.  Every time a student asks a question, Professor Paul Laskowski answers incorrectly with probability $1/4$, independently of other questions.  Let $Y$ be the random variable representing the number of incorrect responses in the live session."
   ]
  },
  {
   "cell_type": "markdown",
   "metadata": {},
   "source": [
    "**2.1** How can we characterize the random variable $X$? First define the probability mass function. Then compute the expectation. What is a real-world setting in which you might encounter a discrete RV of this sort?"
   ]
  },
  {
   "cell_type": "code",
   "execution_count": null,
   "metadata": {},
   "outputs": [],
   "source": []
  },
  {
   "cell_type": "markdown",
   "metadata": {},
   "source": [
    "**2.2** How should we characterize the random variable $Y$? Note that the pmf of Y has been defined for us in terms of the outcomes of $X$. Describe a real-world setting in which you could encounter jointly distributed RVs of this sort."
   ]
  },
  {
   "cell_type": "code",
   "execution_count": null,
   "metadata": {},
   "outputs": [],
   "source": []
  },
  {
   "cell_type": "markdown",
   "metadata": {},
   "source": [
    "**2.3** Compute the expectation of $Y$, conditional on $X$, $E(Y|X)$ First remind yourself of the definition of conditional expectation. What does this expression tell us?\n"
   ]
  },
  {
   "cell_type": "code",
   "execution_count": null,
   "metadata": {},
   "outputs": [],
   "source": []
  },
  {
   "cell_type": "markdown",
   "metadata": {},
   "source": [
    "**2.4** Using the law of iterated expectations, compute $E(Y)$. "
   ]
  },
  {
   "cell_type": "code",
   "execution_count": null,
   "metadata": {},
   "outputs": [],
   "source": []
  },
  {
   "cell_type": "markdown",
   "metadata": {},
   "source": [
    "**2.5** Describe the joint probability distribution of $X$ and $Y$.  (You may find it easiest to use a table). For an introduction to joint pdfs of discrete RVs, see example 5.1 in Devore."
   ]
  },
  {
   "cell_type": "code",
   "execution_count": null,
   "metadata": {},
   "outputs": [],
   "source": []
  },
  {
   "cell_type": "markdown",
   "metadata": {},
   "source": [
    "**2.6** Compute the expectation of the product of $X$ and $Y$, $E(XY)$"
   ]
  },
  {
   "cell_type": "code",
   "execution_count": null,
   "metadata": {},
   "outputs": [],
   "source": []
  },
  {
   "cell_type": "markdown",
   "metadata": {},
   "source": [
    "**2.7** Using the previous result, compute $\\text{cov}(X,Y)$."
   ]
  },
  {
   "cell_type": "code",
   "execution_count": null,
   "metadata": {},
   "outputs": [],
   "source": []
  },
  {
   "cell_type": "markdown",
   "metadata": {},
   "source": [
    "<h3> 3 Joint Distribution Practice:  Triangular Regions </h3>\n",
    "\n",
    "Continuous random variables $X$ and $Y$ have a joint distribution with probability density function,\n",
    "\n",
    "$$ f(X,Y) = \\begin{cases}\n",
    "1 & \\text{ if } \\;0 < Y < 1 \\;\\text{ and } \\; a \\cdot Y < X < a \\cdot Y + 1 \\\\\n",
    "0 & \\text{ if otherwise.}\n",
    "\\end{cases} $$\n",
    "\n",
    "where $a$ is a constant.\n",
    "\n",
    "**Note:** For a problem like this, we have to characterize the RVs jointly before we can talk about them separately. A real-world situation that we might want to model using jointly distributed continuous random variables like these could be the results of two service requests, where the initial service request $Y$ is typically shorter, and the follow up request, $X$, is typically longer."
   ]
  },
  {
   "cell_type": "markdown",
   "metadata": {},
   "source": [
    "**3.1** Choose 2 example values for $a$ and draw a graph of the region for which $X$ and $Y$ have positive probability density. "
   ]
  },
  {
   "cell_type": "code",
   "execution_count": null,
   "metadata": {},
   "outputs": [],
   "source": []
  },
  {
   "cell_type": "markdown",
   "metadata": {},
   "source": [
    "**3.2** Derive the marginal distribution of $Y$."
   ]
  },
  {
   "cell_type": "code",
   "execution_count": null,
   "metadata": {},
   "outputs": [],
   "source": []
  },
  {
   "cell_type": "markdown",
   "metadata": {},
   "source": [
    "**3.3** As a slight variation on the previous part, compute $E(XY | Y)$.  Note that since we're conditioning on Y, the Y inside the expectation is just a constant."
   ]
  },
  {
   "cell_type": "code",
   "execution_count": null,
   "metadata": {},
   "outputs": [],
   "source": []
  },
  {
   "cell_type": "markdown",
   "metadata": {},
   "source": [
    "**3.4** Derive $\\text{cov}(X,Y)$.  Hint: an nice way to do this is to use the law of iterated expectations.  Write down the definition of covariance, then break the expectation up into two expectations.  The inner expectation should be conditional on Y, and the outer expectation should be unconditional."
   ]
  },
  {
   "cell_type": "code",
   "execution_count": null,
   "metadata": {},
   "outputs": [],
   "source": []
  },
  {
   "cell_type": "markdown",
   "metadata": {},
   "source": [
    "**3.5** Check what $cov(X,Y)$ equals when $a = 0$.  What is $cov(X,Y)$ when $a = -1$?"
   ]
  },
  {
   "cell_type": "code",
   "execution_count": null,
   "metadata": {},
   "outputs": [],
   "source": []
  },
  {
   "cell_type": "markdown",
   "metadata": {},
   "source": [
    "**3.6** Choose an example value for a, then use R to simulate 100 draws from the given joint distribution and plot them."
   ]
  },
  {
   "cell_type": "code",
   "execution_count": null,
   "metadata": {},
   "outputs": [],
   "source": []
  },
  {
   "cell_type": "markdown",
   "metadata": {},
   "source": [
    "<h3> 4 Discussion on Models </h3>\n",
    "\n",
    "![title](dog_model.png)\n",
    "\n",
    "Reading: \n",
    "\n",
    "The End of Theory: The Data Deluge Makes the Scientific Method Obsolete\n",
    "\n",
    "<http://archive.wired.com/science/discoveries/magazine/16-07/pb_theory>\n",
    "\n",
    "*All models are wrong, but some are useful.* - George Box, Statistician\n",
    "\n",
    "*All models are wrong, and you can increasingly succeed without them.* - Peter Norvig, Google's Research Director\n",
    "\n",
    "Setting aside the over-dramatic tone of Anderson's piece, there are many elements of his argument worth discussing:\n"
   ]
  },
  {
   "cell_type": "markdown",
   "metadata": {},
   "source": [
    "**4.1** Are the fancy algorithms Anderson points to actually model-free?  For example, is the page rank algorithm model-free?  What is a model?"
   ]
  },
  {
   "cell_type": "code",
   "execution_count": null,
   "metadata": {},
   "outputs": [],
   "source": []
  },
  {
   "cell_type": "markdown",
   "metadata": {},
   "source": [
    "**4.2** What is the real difference between parametric statistics and learning algorithms that originate in a computer science tradition?"
   ]
  },
  {
   "cell_type": "code",
   "execution_count": null,
   "metadata": {},
   "outputs": [],
   "source": []
  },
  {
   "cell_type": "markdown",
   "metadata": {},
   "source": [
    "**4.3** In part, Anderson argues that we don't need models that are understandable by humans.  When is it enough to have a model that \"fits\" the data well, and when do we really need it to be human-readable?"
   ]
  },
  {
   "cell_type": "code",
   "execution_count": null,
   "metadata": {},
   "outputs": [],
   "source": []
  },
  {
   "cell_type": "markdown",
   "metadata": {},
   "source": [
    "**4.4** When does context matter in data science? Is domain knowledge important or can we just rely on the numbers in a data set?"
   ]
  },
  {
   "cell_type": "code",
   "execution_count": null,
   "metadata": {},
   "outputs": [],
   "source": []
  },
  {
   "cell_type": "markdown",
   "metadata": {},
   "source": [
    "**4.5** Anderson seems to imply that we don’t need to test hypotheses today.  Are hypotheses still relevant to data science, or should our focus be on estimating effect sizes, or using our models to classify and predict?"
   ]
  },
  {
   "cell_type": "code",
   "execution_count": null,
   "metadata": {},
   "outputs": [],
   "source": []
  }
 ],
 "metadata": {
  "kernelspec": {
   "display_name": "R",
   "language": "R",
   "name": "ir"
  },
  "language_info": {
   "codemirror_mode": "r",
   "file_extension": ".r",
   "mimetype": "text/x-r-source",
   "name": "R",
   "pygments_lexer": "r",
   "version": "3.3.1"
  }
 },
 "nbformat": 4,
 "nbformat_minor": 4
}
